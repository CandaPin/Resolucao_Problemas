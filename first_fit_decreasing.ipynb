{
 "cells": [
  {
   "cell_type": "code",
   "execution_count": 1,
   "metadata": {},
   "outputs": [],
   "source": [
    "import numpy as np\n",
    "import pandas as pd"
   ]
  },
  {
   "cell_type": "code",
   "execution_count": 20,
   "metadata": {},
   "outputs": [],
   "source": [
    "df_bak = pd.read_excel('ordens_pre_process.xlsx')"
   ]
  },
  {
   "cell_type": "code",
   "execution_count": 34,
   "metadata": {},
   "outputs": [],
   "source": [
    "df = df_bak.drop(['Unnamed: 0'], axis=1)"
   ]
  },
  {
   "cell_type": "code",
   "execution_count": 35,
   "metadata": {},
   "outputs": [],
   "source": [
    "df = df[df['Inner'] == 1]\n",
    "df = df[df['Loja'] == 6]\n",
    "df = df[df['Classe de onda'] == 4]\n",
    "df = df[df['Tipo de buffer'] == 'CX']"
   ]
  },
  {
   "cell_type": "code",
   "execution_count": 36,
   "metadata": {},
   "outputs": [
    {
     "name": "stdout",
     "output_type": "stream",
     "text": [
      "<class 'pandas.core.frame.DataFrame'>\n",
      "Index: 51 entries, 3935 to 31314\n",
      "Data columns (total 22 columns):\n",
      " #   Column                     Non-Null Count  Dtype         \n",
      "---  ------                     --------------  -----         \n",
      " 0   Ordem de produção          51 non-null     int64         \n",
      " 1   Data da ordem de produção  51 non-null     datetime64[ns]\n",
      " 2   Produto                    51 non-null     int64         \n",
      " 3   Comprimento unit           51 non-null     int64         \n",
      " 4   Largura unit               51 non-null     int64         \n",
      " 5   Altura unit                51 non-null     int64         \n",
      " 6   Peso unit                  51 non-null     float64       \n",
      " 7   Peças                      51 non-null     int64         \n",
      " 8   Caixa padrão               51 non-null     object        \n",
      " 9   Loja                       51 non-null     int64         \n",
      " 10  Classe de onda             51 non-null     int64         \n",
      " 11  Tipo de buffer             51 non-null     object        \n",
      " 12  Item pai                   51 non-null     int64         \n",
      " 13  Cor                        51 non-null     float64       \n",
      " 14  Tamanho                    51 non-null     int64         \n",
      " 15  Inner                      51 non-null     int64         \n",
      " 16  Rota                       51 non-null     int64         \n",
      " 17  Capacidade                 51 non-null     float64       \n",
      " 18  pai-cor                    51 non-null     object        \n",
      " 19  Volume unit                51 non-null     int64         \n",
      " 20  Volume total               51 non-null     int64         \n",
      " 21  Peso_total                 51 non-null     float64       \n",
      "dtypes: datetime64[ns](1), float64(4), int64(14), object(3)\n",
      "memory usage: 9.2+ KB\n"
     ]
    }
   ],
   "source": [
    "df.info()"
   ]
  },
  {
   "cell_type": "code",
   "execution_count": 37,
   "metadata": {},
   "outputs": [],
   "source": [
    "def first_fit_decreasing(df, bin_capacity_vol, bin_capacity_weight, bin_item_limit):\n",
    "    # Sort items in decreasing order of volume\n",
    "    df_sorted = df.sort_values(by='Volume total', ascending=False)\n",
    "    \n",
    "    # Initialize bins list\n",
    "    bins = []\n",
    "    \n",
    "    for index, item in df_sorted.iterrows():\n",
    "        for bin in bins:\n",
    "            if (bin['Volume'] + item['Volume total']) <= bin_capacity_vol and \\\n",
    "                (bin['Peso_total'] + item['Peso_total']) <= bin_capacity_weight and \\\n",
    "                bin['Amt. Items'] <= bin_item_limit:\n",
    "                    bin['Items'].append(index)\n",
    "                    bin['Volume'] += item['Volume total']\n",
    "                    bin['Peso_total'] += item['Peso_total']\n",
    "                    bin['Amt. Items'] += item['Peças']\n",
    "                    break\n",
    "        else:\n",
    "            # Create new bin\n",
    "            bins.append({'Items': [index], 'Volume': item['Volume total'], 'Peso_total': item['Peso_total'], 'Amt. Items': item['Peças']})\n",
    "    \n",
    "    return bins"
   ]
  },
  {
   "cell_type": "code",
   "execution_count": 38,
   "metadata": {},
   "outputs": [
    {
     "name": "stdout",
     "output_type": "stream",
     "text": [
      "Packed bins:\n",
      "Bin 1: Amt. Items 20 (Total Volume: 83375243 cubic mm | Total Weight: 5.6400kg)\n",
      "Bin 2: Amt. Items 24 (Total Volume: 83013681 cubic mm | Total Weight: 7.9740kg)\n",
      "Bin 3: Amt. Items 21 (Total Volume: 83186828 cubic mm | Total Weight: 10.7000kg)\n",
      "Bin 4: Amt. Items 28 (Total Volume: 82897543 cubic mm | Total Weight: 8.9790kg)\n",
      "Bin 5: Amt. Items 7 (Total Volume: 13521665 cubic mm | Total Weight: 1.6150kg)\n"
     ]
    }
   ],
   "source": [
    "bin_capacity_vol = 83393894.40\n",
    "bin_capacity_weight = 23\n",
    "bin_item_limit = 170\n",
    "packed_bins = first_fit_decreasing(df, bin_capacity_vol, bin_capacity_weight, bin_item_limit)\n",
    "print(\"Packed bins:\")\n",
    "for i, bin in enumerate(packed_bins):\n",
    "    print(f\"Bin {i+1}: Amt. Items {bin['Amt. Items']} (Total Volume: {bin['Volume']} cubic mm | Total Weight: {bin['Peso_total'] :.4f}kg)\")"
   ]
  }
 ],
 "metadata": {
  "kernelspec": {
   "display_name": "data",
   "language": "python",
   "name": "python3"
  },
  "language_info": {
   "codemirror_mode": {
    "name": "ipython",
    "version": 3
   },
   "file_extension": ".py",
   "mimetype": "text/x-python",
   "name": "python",
   "nbconvert_exporter": "python",
   "pygments_lexer": "ipython3",
   "version": "3.8.19"
  }
 },
 "nbformat": 4,
 "nbformat_minor": 2
}

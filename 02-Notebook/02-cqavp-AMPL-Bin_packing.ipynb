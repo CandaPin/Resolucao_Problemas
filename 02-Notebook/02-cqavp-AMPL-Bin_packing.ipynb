{
 "cells": [
  {
   "cell_type": "markdown",
   "metadata": {},
   "source": [
    "# 0- Imports"
   ]
  },
  {
   "cell_type": "code",
   "execution_count": 1,
   "metadata": {},
   "outputs": [],
   "source": [
    "# Install dependencies\n",
    "#!pip install -q amplpy"
   ]
  },
  {
   "cell_type": "code",
   "execution_count": 2,
   "metadata": {},
   "outputs": [
    {
     "name": "stdout",
     "output_type": "stream",
     "text": [
      "AMPL Development Version 20240404 (MSVC 19.38.33135.0, 64-bit)\n",
      "Demo license with maintenance expiring 20260131.\n",
      "Using license file \"c:\\Users\\canda\\AppData\\Local\\Programs\\Python\\Python311\\Lib\\site-packages\\ampl_module_base\\bin\\ampl.lic\".\n",
      "\n"
     ]
    }
   ],
   "source": [
    "# Google Colab & Kaggle integration\n",
    "from amplpy import AMPL, tools\n",
    "ampl = tools.ampl_notebook(\n",
    "    modules=[\"coin\", \"highs\", \"gokestrel\", \"gurobi\"], # modules to install\n",
    "    license_uuid=\"default\", # license to use\n",
    "    g=globals()) # instantiate AMPL object and register magics"
   ]
  },
  {
   "cell_type": "code",
   "execution_count": 3,
   "metadata": {},
   "outputs": [],
   "source": [
    "ampl.option[\"solver\"] = \"gurobi\""
   ]
  },
  {
   "cell_type": "markdown",
   "metadata": {},
   "source": [
    "# 1- Modelagem"
   ]
  },
  {
   "cell_type": "markdown",
   "metadata": {},
   "source": [
    "## Exemplo 1"
   ]
  },
  {
   "cell_type": "code",
   "execution_count": 4,
   "metadata": {},
   "outputs": [
    {
     "name": "stdout",
     "output_type": "stream",
     "text": [
      "Writing exemplo_1.mod\n"
     ]
    }
   ],
   "source": [
    "%%writefile exemplo_1.mod\n",
    "\n",
    "# Parâmetros\n",
    "param np; # numero de produtos\n",
    "param nm; # numero de maquinas\n",
    "set P = 1..np; # conjunto de produtos\n",
    "set M = 1..nm; # conjunto de maquinas\n",
    "param preco{P}; # preco de venda dos produtos\n",
    "param custo{M}; # custo/hora das maquinas\n",
    "param disp{M}; # disponibilidade das maquinas\n",
    "param tempo{M,P}; # tempo gasto pelo produto j na maquina i\n",
    "\n",
    "#Variáveis de decisão\n",
    "var x{P} integer >= 0; # quantidade de produtos a produzir\n",
    "var venda = sum{j in P} preco[j]*x[j];\n",
    "var gasto = sum{i in M} custo[i]*(sum{j in P} tempo[i,j]*x[j])/60;\n",
    "\n",
    "#Função-objetivo\n",
    "maximize L: venda - gasto;\n",
    "s.t. R1 {i in M}: sum{j in P} (tempo[i,j]*x[j])/60 <= disp[i];"
   ]
  },
  {
   "cell_type": "markdown",
   "metadata": {},
   "source": [
    "Valores dos parâmetros"
   ]
  },
  {
   "cell_type": "code",
   "execution_count": 5,
   "metadata": {},
   "outputs": [
    {
     "name": "stdout",
     "output_type": "stream",
     "text": [
      "Writing exemplo_1.dat\n"
     ]
    }
   ],
   "source": [
    "%%writefile exemplo_1.dat\n",
    "param np := 5;\n",
    "param nm := 3;\n",
    "param preco := 1 35 2 40 3 55 4 25 5 50;\n",
    "param custo := 1 20 2 15 3 35;\n",
    "param disp := 1 700 2 580 3 800;\n",
    "param tempo:\n",
    "1 2 3 4 5 :=\n",
    "1 2 5 7 6 4\n",
    "2 6 2 4 2 5\n",
    "3 4 3 2 1 3;"
   ]
  },
  {
   "cell_type": "code",
   "execution_count": 6,
   "metadata": {},
   "outputs": [
    {
     "name": "stdout",
     "output_type": "stream",
     "text": [
      "Gurobi 11.0.1:Gurobi 11.0.1: optimal solution; objective 392024.75\n",
      "2 simplex iterations\n",
      "1 branching node\n",
      "absmipgap=16.4265, relmipgap=4.19016e-05\n",
      "x [*] :=\n",
      "1     0\n",
      "2  4163\n",
      "3     1\n",
      "4     0\n",
      "5  5294\n",
      ";\n",
      "\n"
     ]
    }
   ],
   "source": [
    "%%ampl_eval\n",
    "reset;\n",
    "model exemplo_1.mod;\n",
    "data exemplo_1.dat;\n",
    "solve;\n",
    "\n",
    "# exibir valor das variáveis de decisão\n",
    "display x;"
   ]
  }
 ],
 "metadata": {
  "kernelspec": {
   "display_name": "Python 3",
   "language": "python",
   "name": "python3"
  },
  "language_info": {
   "codemirror_mode": {
    "name": "ipython",
    "version": 3
   },
   "file_extension": ".py",
   "mimetype": "text/x-python",
   "name": "python",
   "nbconvert_exporter": "python",
   "pygments_lexer": "ipython3",
   "version": "3.11.8"
  }
 },
 "nbformat": 4,
 "nbformat_minor": 2
}
